{
 "cells": [
  {
   "cell_type": "markdown",
   "id": "bd10dace-0e13-47ee-9b3c-3d23770283e4",
   "metadata": {},
   "source": [
    "## Defining helpers"
   ]
  },
  {
   "cell_type": "code",
   "execution_count": 1,
   "id": "214793ff-0cb7-4b88-bf1e-8e67b4ca0615",
   "metadata": {},
   "outputs": [],
   "source": [
    "import os\n",
    "from dotenv import load_dotenv\n",
    "from sqlalchemy import create_engine\n",
    "from sqlalchemy.sql import text\n",
    "import pandas as pd\n",
    "\n",
    "load_dotenv()\n",
    "\n",
    "engine = create_engine(\n",
    "    \"{dialect}+{driver}://{username}:{password}@{host}:{port}/{database}\".format(\n",
    "        dialect=\"postgresql\",\n",
    "        driver=\"psycopg2\",\n",
    "        username=os.environ[\"POSTGRES_USER\"],\n",
    "        password=os.environ[\"POSTGRES_PASSWORD\"],\n",
    "        host=\"localhost\",\n",
    "        port=5432,\n",
    "        database=\"feedback\"\n",
    "    )\n",
    ")\n",
    "\n",
    "def read_sql_query(query):\n",
    "    with engine.connect() as conn:\n",
    "        return pd.read_sql_query(sql=text(query), con=conn)\n",
    "        \n",
    "def just_execute(query):\n",
    "    with engine.connect() as conn:\n",
    "        conn.execute(text(query))\n",
    "        conn.commit()\n",
    "    return \"DONE\"\n",
    "\n",
    "def explain_analyze(query):\n",
    "    with engine.connect() as conn:\n",
    "        return conn.execute(text(f\"EXPLAIN ANALYZE {query}\")).fetchall()"
   ]
  },
  {
   "cell_type": "markdown",
   "id": "1ae040d2-97cb-407b-b5c9-95a5c50bd1a4",
   "metadata": {},
   "source": [
    "## Exploring the data"
   ]
  },
  {
   "cell_type": "code",
   "execution_count": 2,
   "id": "8f1e7230-ff5f-4755-9412-07517ced2357",
   "metadata": {},
   "outputs": [
    {
     "data": {
      "text/html": [
       "<div>\n",
       "<style scoped>\n",
       "    .dataframe tbody tr th:only-of-type {\n",
       "        vertical-align: middle;\n",
       "    }\n",
       "\n",
       "    .dataframe tbody tr th {\n",
       "        vertical-align: top;\n",
       "    }\n",
       "\n",
       "    .dataframe thead th {\n",
       "        text-align: right;\n",
       "    }\n",
       "</style>\n",
       "<table border=\"1\" class=\"dataframe\">\n",
       "  <thead>\n",
       "    <tr style=\"text-align: right;\">\n",
       "      <th></th>\n",
       "      <th>table_name</th>\n",
       "      <th>table_size</th>\n",
       "      <th>toast_size</th>\n",
       "      <th>index_size</th>\n",
       "    </tr>\n",
       "  </thead>\n",
       "  <tbody>\n",
       "    <tr>\n",
       "      <th>0</th>\n",
       "      <td>feedback</td>\n",
       "      <td>17 MB</td>\n",
       "      <td>2896 kB</td>\n",
       "      <td>4784 kB</td>\n",
       "    </tr>\n",
       "    <tr>\n",
       "      <th>1</th>\n",
       "      <td>customer</td>\n",
       "      <td>1968 kB</td>\n",
       "      <td>0 bytes</td>\n",
       "      <td>496 kB</td>\n",
       "    </tr>\n",
       "    <tr>\n",
       "      <th>2</th>\n",
       "      <td>business</td>\n",
       "      <td>1128 kB</td>\n",
       "      <td>0 bytes</td>\n",
       "      <td>280 kB</td>\n",
       "    </tr>\n",
       "  </tbody>\n",
       "</table>\n",
       "</div>"
      ],
      "text/plain": [
       "  table_name table_size toast_size index_size\n",
       "0   feedback      17 MB    2896 kB    4784 kB\n",
       "1   customer    1968 kB    0 bytes     496 kB\n",
       "2   business    1128 kB    0 bytes     280 kB"
      ]
     },
     "execution_count": 2,
     "metadata": {},
     "output_type": "execute_result"
    }
   ],
   "source": [
    "read_sql_query(\n",
    "    \"\"\"\n",
    "    SELECT \n",
    "        ut.relname AS table_name,\n",
    "        pg_size_pretty(pg_relation_size(ut.relid)) AS table_size,\n",
    "        pg_size_pretty(pg_relation_size(c.reltoastrelid)) AS toast_size,\n",
    "        pg_size_pretty(pg_total_relation_size(ut.relid) - pg_relation_size(ut.relid)) AS index_size\n",
    "    FROM pg_catalog.pg_statio_user_tables ut LEFT JOIN pg_class c ON ut.relid = c.oid\n",
    "    ORDER BY pg_total_relation_size(ut.relid) DESC;\n",
    "   \"\"\"\n",
    ")"
   ]
  },
  {
   "cell_type": "code",
   "execution_count": 3,
   "id": "d52bc9bf-1f13-48f6-b231-097e06642300",
   "metadata": {},
   "outputs": [
    {
     "data": {
      "text/html": [
       "<div>\n",
       "<style scoped>\n",
       "    .dataframe tbody tr th:only-of-type {\n",
       "        vertical-align: middle;\n",
       "    }\n",
       "\n",
       "    .dataframe tbody tr th {\n",
       "        vertical-align: top;\n",
       "    }\n",
       "\n",
       "    .dataframe thead th {\n",
       "        text-align: right;\n",
       "    }\n",
       "</style>\n",
       "<table border=\"1\" class=\"dataframe\">\n",
       "  <thead>\n",
       "    <tr style=\"text-align: right;\">\n",
       "      <th></th>\n",
       "      <th>business_id</th>\n",
       "      <th>name</th>\n",
       "      <th>description</th>\n",
       "      <th>lat</th>\n",
       "      <th>lon</th>\n",
       "      <th>active</th>\n",
       "      <th>registered</th>\n",
       "    </tr>\n",
       "  </thead>\n",
       "  <tbody>\n",
       "    <tr>\n",
       "      <th>0</th>\n",
       "      <td>1</td>\n",
       "      <td>Chan-Clark</td>\n",
       "      <td>Distributed static budgetary management</td>\n",
       "      <td>41.27621</td>\n",
       "      <td>-72.86843</td>\n",
       "      <td>False</td>\n",
       "      <td>2025-01-17 06:47:37+00:00</td>\n",
       "    </tr>\n",
       "    <tr>\n",
       "      <th>1</th>\n",
       "      <td>2</td>\n",
       "      <td>Edwards, Smith and Brown</td>\n",
       "      <td>Business-focused solution-oriented emulation</td>\n",
       "      <td>33.54428</td>\n",
       "      <td>-84.23381</td>\n",
       "      <td>True</td>\n",
       "      <td>2023-02-15 14:17:38+00:00</td>\n",
       "    </tr>\n",
       "    <tr>\n",
       "      <th>2</th>\n",
       "      <td>3</td>\n",
       "      <td>Jenkins Group</td>\n",
       "      <td>Digitized intermediate challenge</td>\n",
       "      <td>45.53929</td>\n",
       "      <td>-122.38731</td>\n",
       "      <td>True</td>\n",
       "      <td>2022-12-31 09:18:52+00:00</td>\n",
       "    </tr>\n",
       "    <tr>\n",
       "      <th>3</th>\n",
       "      <td>4</td>\n",
       "      <td>Harrington and Sons</td>\n",
       "      <td>Distributed background projection</td>\n",
       "      <td>40.60538</td>\n",
       "      <td>-73.75513</td>\n",
       "      <td>False</td>\n",
       "      <td>2021-06-26 15:39:55+00:00</td>\n",
       "    </tr>\n",
       "    <tr>\n",
       "      <th>4</th>\n",
       "      <td>5</td>\n",
       "      <td>Haley LLC</td>\n",
       "      <td>Enhanced 24/7 functionalities</td>\n",
       "      <td>40.65538</td>\n",
       "      <td>-74.38987</td>\n",
       "      <td>True</td>\n",
       "      <td>2024-12-26 03:25:38+00:00</td>\n",
       "    </tr>\n",
       "  </tbody>\n",
       "</table>\n",
       "</div>"
      ],
      "text/plain": [
       "   business_id                      name  \\\n",
       "0            1                Chan-Clark   \n",
       "1            2  Edwards, Smith and Brown   \n",
       "2            3             Jenkins Group   \n",
       "3            4       Harrington and Sons   \n",
       "4            5                 Haley LLC   \n",
       "\n",
       "                                    description       lat        lon  active  \\\n",
       "0       Distributed static budgetary management  41.27621  -72.86843   False   \n",
       "1  Business-focused solution-oriented emulation  33.54428  -84.23381    True   \n",
       "2              Digitized intermediate challenge  45.53929 -122.38731    True   \n",
       "3             Distributed background projection  40.60538  -73.75513   False   \n",
       "4                 Enhanced 24/7 functionalities  40.65538  -74.38987    True   \n",
       "\n",
       "                 registered  \n",
       "0 2025-01-17 06:47:37+00:00  \n",
       "1 2023-02-15 14:17:38+00:00  \n",
       "2 2022-12-31 09:18:52+00:00  \n",
       "3 2021-06-26 15:39:55+00:00  \n",
       "4 2024-12-26 03:25:38+00:00  "
      ]
     },
     "execution_count": 3,
     "metadata": {},
     "output_type": "execute_result"
    }
   ],
   "source": [
    "read_sql_query(\"SELECT * FROM business LIMIT 5\")"
   ]
  },
  {
   "cell_type": "code",
   "execution_count": 4,
   "id": "919b31e1-48a0-4d01-87f8-adca5b6173a3",
   "metadata": {},
   "outputs": [
    {
     "data": {
      "text/html": [
       "<div>\n",
       "<style scoped>\n",
       "    .dataframe tbody tr th:only-of-type {\n",
       "        vertical-align: middle;\n",
       "    }\n",
       "\n",
       "    .dataframe tbody tr th {\n",
       "        vertical-align: top;\n",
       "    }\n",
       "\n",
       "    .dataframe thead th {\n",
       "        text-align: right;\n",
       "    }\n",
       "</style>\n",
       "<table border=\"1\" class=\"dataframe\">\n",
       "  <thead>\n",
       "    <tr style=\"text-align: right;\">\n",
       "      <th></th>\n",
       "      <th>customer_id</th>\n",
       "      <th>name</th>\n",
       "      <th>banned_from</th>\n",
       "      <th>registered</th>\n",
       "    </tr>\n",
       "  </thead>\n",
       "  <tbody>\n",
       "    <tr>\n",
       "      <th>0</th>\n",
       "      <td>1</td>\n",
       "      <td>Mr. Sean Hubbard 196</td>\n",
       "      <td>[4853, 2, 1079]</td>\n",
       "      <td>2020-11-04 03:07:21+00:00</td>\n",
       "    </tr>\n",
       "    <tr>\n",
       "      <th>1</th>\n",
       "      <td>2</td>\n",
       "      <td>Mx. Denise Cameron 722</td>\n",
       "      <td>[2503, 2536, 5399]</td>\n",
       "      <td>2020-02-23 13:48:23+00:00</td>\n",
       "    </tr>\n",
       "    <tr>\n",
       "      <th>2</th>\n",
       "      <td>3</td>\n",
       "      <td>Mx. Nicole Smith 434</td>\n",
       "      <td>[5389, 8338, 125]</td>\n",
       "      <td>2021-10-28 14:08:36+00:00</td>\n",
       "    </tr>\n",
       "    <tr>\n",
       "      <th>3</th>\n",
       "      <td>4</td>\n",
       "      <td>Mrs. Jasmine Simon 982</td>\n",
       "      <td>[8314, 5138, 1050]</td>\n",
       "      <td>2020-05-29 19:16:19+00:00</td>\n",
       "    </tr>\n",
       "    <tr>\n",
       "      <th>4</th>\n",
       "      <td>5</td>\n",
       "      <td>Mr. Judith Burns 377</td>\n",
       "      <td>[7341, 2339, 6344]</td>\n",
       "      <td>2020-02-10 16:29:22+00:00</td>\n",
       "    </tr>\n",
       "  </tbody>\n",
       "</table>\n",
       "</div>"
      ],
      "text/plain": [
       "   customer_id                    name         banned_from  \\\n",
       "0            1    Mr. Sean Hubbard 196     [4853, 2, 1079]   \n",
       "1            2  Mx. Denise Cameron 722  [2503, 2536, 5399]   \n",
       "2            3    Mx. Nicole Smith 434   [5389, 8338, 125]   \n",
       "3            4  Mrs. Jasmine Simon 982  [8314, 5138, 1050]   \n",
       "4            5    Mr. Judith Burns 377  [7341, 2339, 6344]   \n",
       "\n",
       "                 registered  \n",
       "0 2020-11-04 03:07:21+00:00  \n",
       "1 2020-02-23 13:48:23+00:00  \n",
       "2 2021-10-28 14:08:36+00:00  \n",
       "3 2020-05-29 19:16:19+00:00  \n",
       "4 2020-02-10 16:29:22+00:00  "
      ]
     },
     "execution_count": 4,
     "metadata": {},
     "output_type": "execute_result"
    }
   ],
   "source": [
    "read_sql_query(\"SELECT * FROM customer LIMIT 5\")"
   ]
  },
  {
   "cell_type": "code",
   "execution_count": 5,
   "id": "ebb8aec9-e6a4-44ad-b25a-fd334aeb6fa2",
   "metadata": {},
   "outputs": [
    {
     "data": {
      "text/html": [
       "<div>\n",
       "<style scoped>\n",
       "    .dataframe tbody tr th:only-of-type {\n",
       "        vertical-align: middle;\n",
       "    }\n",
       "\n",
       "    .dataframe tbody tr th {\n",
       "        vertical-align: top;\n",
       "    }\n",
       "\n",
       "    .dataframe thead th {\n",
       "        text-align: right;\n",
       "    }\n",
       "</style>\n",
       "<table border=\"1\" class=\"dataframe\">\n",
       "  <thead>\n",
       "    <tr style=\"text-align: right;\">\n",
       "      <th></th>\n",
       "      <th>feedback_id</th>\n",
       "      <th>business_id</th>\n",
       "      <th>customer_id</th>\n",
       "      <th>message</th>\n",
       "      <th>last_edited</th>\n",
       "    </tr>\n",
       "  </thead>\n",
       "  <tbody>\n",
       "    <tr>\n",
       "      <th>0</th>\n",
       "      <td>1</td>\n",
       "      <td>1</td>\n",
       "      <td>18428</td>\n",
       "      <td>Lose situation develop let few increase staff....</td>\n",
       "      <td>2026-07-17 17:02:53+00:00</td>\n",
       "    </tr>\n",
       "    <tr>\n",
       "      <th>1</th>\n",
       "      <td>2</td>\n",
       "      <td>1</td>\n",
       "      <td>14113</td>\n",
       "      <td>Media space rest theory second fear. Develop m...</td>\n",
       "      <td>2022-07-14 19:42:50+00:00</td>\n",
       "    </tr>\n",
       "    <tr>\n",
       "      <th>2</th>\n",
       "      <td>3</td>\n",
       "      <td>1</td>\n",
       "      <td>10276</td>\n",
       "      <td>Talk hot the company strategy that Mrs. Import...</td>\n",
       "      <td>2024-06-18 21:55:34+00:00</td>\n",
       "    </tr>\n",
       "    <tr>\n",
       "      <th>3</th>\n",
       "      <td>4</td>\n",
       "      <td>1</td>\n",
       "      <td>15392</td>\n",
       "      <td>It season model environmental. My program itse...</td>\n",
       "      <td>2025-11-06 16:30:11+00:00</td>\n",
       "    </tr>\n",
       "    <tr>\n",
       "      <th>4</th>\n",
       "      <td>5</td>\n",
       "      <td>1</td>\n",
       "      <td>882</td>\n",
       "      <td>Book yet field find agreement their analysis. ...</td>\n",
       "      <td>2023-11-21 00:08:00+00:00</td>\n",
       "    </tr>\n",
       "  </tbody>\n",
       "</table>\n",
       "</div>"
      ],
      "text/plain": [
       "   feedback_id  business_id  customer_id  \\\n",
       "0            1            1        18428   \n",
       "1            2            1        14113   \n",
       "2            3            1        10276   \n",
       "3            4            1        15392   \n",
       "4            5            1          882   \n",
       "\n",
       "                                             message               last_edited  \n",
       "0  Lose situation develop let few increase staff.... 2026-07-17 17:02:53+00:00  \n",
       "1  Media space rest theory second fear. Develop m... 2022-07-14 19:42:50+00:00  \n",
       "2  Talk hot the company strategy that Mrs. Import... 2024-06-18 21:55:34+00:00  \n",
       "3  It season model environmental. My program itse... 2025-11-06 16:30:11+00:00  \n",
       "4  Book yet field find agreement their analysis. ... 2023-11-21 00:08:00+00:00  "
      ]
     },
     "execution_count": 5,
     "metadata": {},
     "output_type": "execute_result"
    }
   ],
   "source": [
    "read_sql_query(\"SELECT * FROM feedback LIMIT 5\")"
   ]
  },
  {
   "cell_type": "markdown",
   "id": "b379da86-bf85-4270-a567-f56ef12d67d5",
   "metadata": {},
   "source": [
    "### Ensure ONLY indices for primary keys exist"
   ]
  },
  {
   "cell_type": "code",
   "execution_count": 6,
   "id": "d75d366a-124d-4b7a-bb42-d645141260ef",
   "metadata": {},
   "outputs": [
    {
     "data": {
      "text/html": [
       "<div>\n",
       "<style scoped>\n",
       "    .dataframe tbody tr th:only-of-type {\n",
       "        vertical-align: middle;\n",
       "    }\n",
       "\n",
       "    .dataframe tbody tr th {\n",
       "        vertical-align: top;\n",
       "    }\n",
       "\n",
       "    .dataframe thead th {\n",
       "        text-align: right;\n",
       "    }\n",
       "</style>\n",
       "<table border=\"1\" class=\"dataframe\">\n",
       "  <thead>\n",
       "    <tr style=\"text-align: right;\">\n",
       "      <th></th>\n",
       "      <th>schemaname</th>\n",
       "      <th>table_name</th>\n",
       "      <th>index_name</th>\n",
       "    </tr>\n",
       "  </thead>\n",
       "  <tbody>\n",
       "    <tr>\n",
       "      <th>0</th>\n",
       "      <td>public</td>\n",
       "      <td>business</td>\n",
       "      <td>business_pkey</td>\n",
       "    </tr>\n",
       "    <tr>\n",
       "      <th>1</th>\n",
       "      <td>public</td>\n",
       "      <td>customer</td>\n",
       "      <td>customer_pkey</td>\n",
       "    </tr>\n",
       "    <tr>\n",
       "      <th>2</th>\n",
       "      <td>public</td>\n",
       "      <td>feedback</td>\n",
       "      <td>feedback_pkey</td>\n",
       "    </tr>\n",
       "  </tbody>\n",
       "</table>\n",
       "</div>"
      ],
      "text/plain": [
       "  schemaname table_name     index_name\n",
       "0     public   business  business_pkey\n",
       "1     public   customer  customer_pkey\n",
       "2     public   feedback  feedback_pkey"
      ]
     },
     "execution_count": 6,
     "metadata": {},
     "output_type": "execute_result"
    }
   ],
   "source": [
    "read_sql_query(\n",
    "    \"\"\"\n",
    "    SELECT\n",
    "      schemaname,\n",
    "      relname AS table_name,\n",
    "      indexrelname AS index_name\n",
    "    FROM pg_stat_user_indexes\n",
    "    \"\"\"\n",
    ")"
   ]
  },
  {
   "cell_type": "code",
   "execution_count": 7,
   "id": "19fa54de-bd09-4b00-a69f-4f66de3e7d5e",
   "metadata": {},
   "outputs": [
    {
     "data": {
      "text/plain": [
       "'DONE'"
      ]
     },
     "execution_count": 7,
     "metadata": {},
     "output_type": "execute_result"
    }
   ],
   "source": [
    "just_execute(\n",
    "    \"\"\"\n",
    "    DROP INDEX IF EXISTS business_name_idx;\n",
    "    DROP INDEX IF EXISTS business_location_idx;\n",
    "    DROP INDEX IF EXISTS customer_name_idx;\n",
    "    DROP INDEX IF EXISTS customer_banned_from_idx;\n",
    "    DROP INDEX IF EXISTS feedback_business_idx;\n",
    "    DROP INDEX IF EXISTS feedback_customer_idx;\n",
    "    DROP INDEX IF EXISTS feedback_message_idx;\n",
    "    \"\"\"\n",
    ")"
   ]
  },
  {
   "cell_type": "code",
   "execution_count": 8,
   "id": "26e41487-4b23-4eba-a5e6-d77007ee944b",
   "metadata": {},
   "outputs": [
    {
     "data": {
      "text/html": [
       "<div>\n",
       "<style scoped>\n",
       "    .dataframe tbody tr th:only-of-type {\n",
       "        vertical-align: middle;\n",
       "    }\n",
       "\n",
       "    .dataframe tbody tr th {\n",
       "        vertical-align: top;\n",
       "    }\n",
       "\n",
       "    .dataframe thead th {\n",
       "        text-align: right;\n",
       "    }\n",
       "</style>\n",
       "<table border=\"1\" class=\"dataframe\">\n",
       "  <thead>\n",
       "    <tr style=\"text-align: right;\">\n",
       "      <th></th>\n",
       "      <th>schemaname</th>\n",
       "      <th>table_name</th>\n",
       "      <th>index_name</th>\n",
       "    </tr>\n",
       "  </thead>\n",
       "  <tbody>\n",
       "    <tr>\n",
       "      <th>0</th>\n",
       "      <td>public</td>\n",
       "      <td>business</td>\n",
       "      <td>business_pkey</td>\n",
       "    </tr>\n",
       "    <tr>\n",
       "      <th>1</th>\n",
       "      <td>public</td>\n",
       "      <td>customer</td>\n",
       "      <td>customer_pkey</td>\n",
       "    </tr>\n",
       "    <tr>\n",
       "      <th>2</th>\n",
       "      <td>public</td>\n",
       "      <td>feedback</td>\n",
       "      <td>feedback_pkey</td>\n",
       "    </tr>\n",
       "  </tbody>\n",
       "</table>\n",
       "</div>"
      ],
      "text/plain": [
       "  schemaname table_name     index_name\n",
       "0     public   business  business_pkey\n",
       "1     public   customer  customer_pkey\n",
       "2     public   feedback  feedback_pkey"
      ]
     },
     "execution_count": 8,
     "metadata": {},
     "output_type": "execute_result"
    }
   ],
   "source": [
    "read_sql_query(\n",
    "    \"\"\"\n",
    "    SELECT\n",
    "      schemaname,\n",
    "      relname AS table_name,\n",
    "      indexrelname AS index_name\n",
    "    FROM pg_stat_user_indexes\n",
    "    \"\"\"\n",
    ")"
   ]
  },
  {
   "cell_type": "markdown",
   "id": "9b199a17-ecd9-40f8-b704-53d861c72060",
   "metadata": {},
   "source": [
    "## Querying 'business' table"
   ]
  },
  {
   "cell_type": "markdown",
   "id": "ec7be0c4-1756-4d4f-b9c5-c36830c9b761",
   "metadata": {},
   "source": [
    "### Find by name"
   ]
  },
  {
   "cell_type": "code",
   "execution_count": 9,
   "id": "7f1f9447-7a27-4cb4-a780-23c9fb51c544",
   "metadata": {},
   "outputs": [
    {
     "data": {
      "text/plain": [
       "[('Seq Scan on business  (cost=0.00..266.00 rows=1 width=80) (actual time=0.007..0.657 rows=1 loops=1)',),\n",
       " (\"  Filter: (name = 'Edwards, Smith and Brown'::text)\",),\n",
       " ('  Rows Removed by Filter: 9999',),\n",
       " ('Planning Time: 0.122 ms',),\n",
       " ('Execution Time: 0.669 ms',)]"
      ]
     },
     "execution_count": 9,
     "metadata": {},
     "output_type": "execute_result"
    }
   ],
   "source": [
    "explain_analyze(\n",
    "    \"\"\"\n",
    "    SELECT * FROM business WHERE name = 'Edwards, Smith and Brown'\n",
    "    \"\"\"\n",
    ")"
   ]
  },
  {
   "cell_type": "code",
   "execution_count": 10,
   "id": "7f61826d-e139-4c30-b406-5a25a056673c",
   "metadata": {},
   "outputs": [
    {
     "data": {
      "text/plain": [
       "'DONE'"
      ]
     },
     "execution_count": 10,
     "metadata": {},
     "output_type": "execute_result"
    }
   ],
   "source": [
    "just_execute(\n",
    "    \"\"\"\n",
    "    CREATE INDEX IF NOT EXISTS business_name_idx ON business USING BTREE (name);\n",
    "    ANALYZE business;\n",
    "    \"\"\"\n",
    ")"
   ]
  },
  {
   "cell_type": "code",
   "execution_count": 11,
   "id": "f69cbac0-3d24-48cb-b4a8-02ebb107c072",
   "metadata": {},
   "outputs": [
    {
     "data": {
      "text/plain": [
       "[('Index Scan using business_name_idx on business  (cost=0.29..8.30 rows=1 width=80) (actual time=0.064..0.065 rows=1 loops=1)',),\n",
       " (\"  Index Cond: (name = 'Edwards, Smith and Brown'::text)\",),\n",
       " ('Planning Time: 0.220 ms',),\n",
       " ('Execution Time: 0.078 ms',)]"
      ]
     },
     "execution_count": 11,
     "metadata": {},
     "output_type": "execute_result"
    }
   ],
   "source": [
    "explain_analyze(\n",
    "    \"\"\"\n",
    "    SELECT * FROM business WHERE name = 'Edwards, Smith and Brown'\n",
    "    \"\"\"\n",
    ")"
   ]
  },
  {
   "cell_type": "markdown",
   "id": "9145c17a-5847-4842-960a-7a065eac72bb",
   "metadata": {},
   "source": [
    "### Find nearest"
   ]
  },
  {
   "cell_type": "code",
   "execution_count": 12,
   "id": "c93214ff-2148-40e5-ac83-a39bfecbca83",
   "metadata": {},
   "outputs": [
    {
     "data": {
      "text/plain": [
       "[('Limit  (cost=2821.24..2821.25 rows=5 width=88) (actual time=29.574..29.576 rows=5 loops=1)',),\n",
       " ('  ->  Sort  (cost=2821.24..2821.27 rows=10 width=88) (actual time=29.573..29.574 rows=5 loops=1)',),\n",
       " (\"        Sort Key: (sec_to_gc(cube_distance((ll_to_earth((lat)::double precision, (lon)::double precision))::cube, '(-2392907.1474526017, -3772510.0199894756, 4552273.121087229)'::cube))) DESC\",),\n",
       " ('        Sort Method: top-N heapsort  Memory: 25kB',),\n",
       " ('        ->  Seq Scan on business  (cost=0.00..2821.07 rows=10 width=88) (actual time=0.167..29.548 rows=67 loops=1)',),\n",
       " (\"              Filter: ('(-2402907.146428373, -3782510.018965247, 4542273.122111457),(-2382907.14847683, -3762510.021013704, 4562273.120063)'::cube @> (ll_to_earth((lat)::double precision, (lon)::double precision))::cube)\",),\n",
       " ('              Rows Removed by Filter: 9933',),\n",
       " ('Planning Time: 1.100 ms',),\n",
       " ('Execution Time: 29.607 ms',)]"
      ]
     },
     "execution_count": 12,
     "metadata": {},
     "output_type": "execute_result"
    }
   ],
   "source": [
    "explain_analyze(\n",
    "    \"\"\"\n",
    "    SELECT *, earth_distance(ll_to_earth(lat, lon), ll_to_earth('45.539', '-122.387')) AS distance FROM business\n",
    "    WHERE earth_box(ll_to_earth ('45.539', '-122.387'), 10000) @> ll_to_earth (lat, lon)\n",
    "    ORDER BY distance DESC\n",
    "    LIMIT 5\n",
    "    \"\"\"\n",
    ")"
   ]
  },
  {
   "cell_type": "code",
   "execution_count": 13,
   "id": "a68d4e8f-a00f-48ce-acea-54686a779f36",
   "metadata": {},
   "outputs": [
    {
     "data": {
      "text/plain": [
       "'DONE'"
      ]
     },
     "execution_count": 13,
     "metadata": {},
     "output_type": "execute_result"
    }
   ],
   "source": [
    "just_execute(\n",
    "    \"\"\"\n",
    "    CREATE INDEX IF NOT EXISTS business_location_idx ON business USING GIST (ll_to_earth(lat, lon));\n",
    "    ANALYZE business;\n",
    "    \"\"\"\n",
    ")"
   ]
  },
  {
   "cell_type": "code",
   "execution_count": 14,
   "id": "b2120845-fdf7-478c-99dd-18e2e45a397b",
   "metadata": {},
   "outputs": [
    {
     "data": {
      "text/plain": [
       "[('Limit  (cost=44.15..44.17 rows=5 width=88) (actual time=0.490..0.490 rows=5 loops=1)',),\n",
       " ('  ->  Sort  (cost=44.15..44.18 rows=10 width=88) (actual time=0.489..0.489 rows=5 loops=1)',),\n",
       " (\"        Sort Key: (sec_to_gc(cube_distance((ll_to_earth((lat)::double precision, (lon)::double precision))::cube, '(-2392907.1474526017, -3772510.0199894756, 4552273.121087229)'::cube))) DESC\",),\n",
       " ('        Sort Method: top-N heapsort  Memory: 25kB',),\n",
       " ('        ->  Bitmap Heap Scan on business  (cost=4.23..43.99 rows=10 width=88) (actual time=0.149..0.469 rows=67 loops=1)',),\n",
       " (\"              Recheck Cond: ('(-2402907.146428373, -3782510.018965247, 4542273.122111457),(-2382907.14847683, -3762510.021013704, 4562273.120063)'::cube @> (ll_to_earth((lat)::double precision, (lon)::double precision))::cube)\",),\n",
       " ('              Heap Blocks: exact=54',),\n",
       " ('              ->  Bitmap Index Scan on business_location_idx  (cost=0.00..4.23 rows=10 width=0) (actual time=0.042..0.043 rows=67 loops=1)',),\n",
       " (\"                    Index Cond: ((ll_to_earth((lat)::double precision, (lon)::double precision))::cube <@ '(-2402907.146428373, -3782510.018965247, 4542273.122111457),(-2382907.14847683, -3762510.021013704, 4562273.120063)'::cube)\",),\n",
       " ('Planning Time: 0.589 ms',),\n",
       " ('Execution Time: 0.562 ms',)]"
      ]
     },
     "execution_count": 14,
     "metadata": {},
     "output_type": "execute_result"
    }
   ],
   "source": [
    "explain_analyze(\n",
    "    \"\"\"\n",
    "    SELECT *, earth_distance(ll_to_earth(lat, lon), ll_to_earth('45.539', '-122.387')) AS distance FROM business\n",
    "    WHERE earth_box(ll_to_earth ('45.539', '-122.387'), 10000) @> ll_to_earth (lat, lon)\n",
    "    ORDER BY distance DESC\n",
    "    LIMIT 5\n",
    "    \"\"\"\n",
    ")\n"
   ]
  },
  {
   "cell_type": "markdown",
   "id": "44d46353-ad0d-4df3-a28d-dcbac756b966",
   "metadata": {},
   "source": [
    "## Querying 'customer' table"
   ]
  },
  {
   "cell_type": "markdown",
   "id": "f6c42811-235e-4262-9045-99c6472a35b1",
   "metadata": {},
   "source": [
    "### Find customers banned from a business"
   ]
  },
  {
   "cell_type": "code",
   "execution_count": 15,
   "id": "c3aefa7b-29d2-4f93-9ecd-66a98c4aa327",
   "metadata": {},
   "outputs": [
    {
     "data": {
      "text/plain": [
       "[('Seq Scan on customer  (cost=0.00..496.00 rows=4 width=67) (actual time=0.032..2.409 rows=8 loops=1)',),\n",
       " (\"  Filter: (banned_from @> '{8338}'::integer[])\",),\n",
       " ('  Rows Removed by Filter: 19992',),\n",
       " ('Planning Time: 0.066 ms',),\n",
       " ('Execution Time: 2.425 ms',)]"
      ]
     },
     "execution_count": 15,
     "metadata": {},
     "output_type": "execute_result"
    }
   ],
   "source": [
    "explain_analyze(\n",
    "    \"\"\"\n",
    "    SELECT * FROM customer WHERE banned_from @> '{8338}'\n",
    "    \"\"\"\n",
    ")"
   ]
  },
  {
   "cell_type": "code",
   "execution_count": 16,
   "id": "a2e333d9-934b-48cb-8daf-30192e016205",
   "metadata": {},
   "outputs": [
    {
     "data": {
      "text/plain": [
       "'DONE'"
      ]
     },
     "execution_count": 16,
     "metadata": {},
     "output_type": "execute_result"
    }
   ],
   "source": [
    "just_execute(\n",
    "    \"\"\"\n",
    "    CREATE INDEX IF NOT EXISTS customer_banned_from_idx ON customer USING GIN (banned_from);\n",
    "    ANALYZE customer;\n",
    "    \"\"\"\n",
    ")"
   ]
  },
  {
   "cell_type": "code",
   "execution_count": 17,
   "id": "0a025f54-db04-49e3-a236-55e1ea8c03c1",
   "metadata": {},
   "outputs": [
    {
     "data": {
      "text/plain": [
       "[('Bitmap Heap Scan on customer  (cost=12.85..27.37 rows=4 width=67) (actual time=0.072..0.082 rows=8 loops=1)',),\n",
       " (\"  Recheck Cond: (banned_from @> '{8338}'::integer[])\",),\n",
       " ('  Heap Blocks: exact=8',),\n",
       " ('  ->  Bitmap Index Scan on customer_banned_from_idx  (cost=0.00..12.84 rows=4 width=0) (actual time=0.065..0.066 rows=8 loops=1)',),\n",
       " (\"        Index Cond: (banned_from @> '{8338}'::integer[])\",),\n",
       " ('Planning Time: 0.149 ms',),\n",
       " ('Execution Time: 0.148 ms',)]"
      ]
     },
     "execution_count": 17,
     "metadata": {},
     "output_type": "execute_result"
    }
   ],
   "source": [
    "explain_analyze(\n",
    "    \"\"\"\n",
    "    SELECT * FROM customer WHERE banned_from @> '{8338}'\n",
    "    \"\"\"\n",
    ")"
   ]
  },
  {
   "cell_type": "markdown",
   "id": "fda6c3df-f697-4363-ac08-883940df162e",
   "metadata": {},
   "source": [
    "## Querying 'feedback' table"
   ]
  },
  {
   "cell_type": "markdown",
   "id": "214627ab-4532-47c3-97af-c9d1081206ee",
   "metadata": {},
   "source": [
    "### Get feedback for a specific business"
   ]
  },
  {
   "cell_type": "code",
   "execution_count": 18,
   "id": "2ffd6650-e23f-468a-9133-4db6cef95dfe",
   "metadata": {},
   "outputs": [
    {
     "data": {
      "text/plain": [
       "[('Seq Scan on feedback  (cost=0.00..3170.15 rows=9 width=187) (actual time=0.009..6.617 rows=9 loops=1)',),\n",
       " ('  Filter: (business_id = 2)',),\n",
       " ('  Rows Removed by Filter: 80003',),\n",
       " ('Planning Time: 0.061 ms',),\n",
       " ('Execution Time: 6.636 ms',)]"
      ]
     },
     "execution_count": 18,
     "metadata": {},
     "output_type": "execute_result"
    }
   ],
   "source": [
    "explain_analyze(\n",
    "    \"\"\"\n",
    "    SELECT * FROM feedback WHERE business_id = 2\n",
    "    \"\"\"\n",
    ")"
   ]
  },
  {
   "cell_type": "code",
   "execution_count": 19,
   "id": "97a60464-15f4-465c-b5d9-050aa16a8cf7",
   "metadata": {},
   "outputs": [
    {
     "data": {
      "text/plain": [
       "'DONE'"
      ]
     },
     "execution_count": 19,
     "metadata": {},
     "output_type": "execute_result"
    }
   ],
   "source": [
    "just_execute(\n",
    "    \"\"\"\n",
    "    CREATE INDEX IF NOT EXISTS feedback_business_idx ON feedback USING BTREE (business_id);\n",
    "    ANALYZE feedback;\n",
    "    \"\"\"\n",
    ")"
   ]
  },
  {
   "cell_type": "code",
   "execution_count": 20,
   "id": "2e5657fa-6bcf-431a-904d-f1c260747f1d",
   "metadata": {},
   "outputs": [
    {
     "data": {
      "text/plain": [
       "[('Index Scan using feedback_business_idx on feedback  (cost=0.29..8.47 rows=9 width=188) (actual time=0.046..0.047 rows=9 loops=1)',),\n",
       " ('  Index Cond: (business_id = 2)',),\n",
       " ('Planning Time: 0.155 ms',),\n",
       " ('Execution Time: 0.058 ms',)]"
      ]
     },
     "execution_count": 20,
     "metadata": {},
     "output_type": "execute_result"
    }
   ],
   "source": [
    "explain_analyze(\n",
    "    \"\"\"\n",
    "    SELECT * FROM feedback WHERE business_id = 2\n",
    "    \"\"\"\n",
    ")"
   ]
  },
  {
   "cell_type": "markdown",
   "id": "ec8d2b3d-438e-489d-9243-cc1d8ed42dc8",
   "metadata": {},
   "source": [
    "### Get feedback for a specific customer"
   ]
  },
  {
   "cell_type": "code",
   "execution_count": 21,
   "id": "23fb534a-df4a-4aa2-a518-141cb51d4e20",
   "metadata": {},
   "outputs": [
    {
     "data": {
      "text/plain": [
       "[('Hash Join  (cost=496.01..3676.21 rows=4 width=255) (actual time=3.418..10.156 rows=6 loops=1)',),\n",
       " ('  Hash Cond: (f.customer_id = c.customer_id)',),\n",
       " ('  ->  Seq Scan on feedback f  (cost=0.00..2970.12 rows=80012 width=188) (actual time=0.005..3.264 rows=80012 loops=1)',),\n",
       " ('  ->  Hash  (cost=496.00..496.00 rows=1 width=67) (actual time=1.794..1.795 rows=1 loops=1)',),\n",
       " ('        Buckets: 1024  Batches: 1  Memory Usage: 9kB',),\n",
       " ('        ->  Seq Scan on customer c  (cost=0.00..496.00 rows=1 width=67) (actual time=0.004..1.791 rows=1 loops=1)',),\n",
       " (\"              Filter: (name = 'Mr. Sean Hubbard 196'::text)\",),\n",
       " ('              Rows Removed by Filter: 19999',),\n",
       " ('Planning Time: 0.315 ms',),\n",
       " ('Execution Time: 10.178 ms',)]"
      ]
     },
     "execution_count": 21,
     "metadata": {},
     "output_type": "execute_result"
    }
   ],
   "source": [
    "explain_analyze(\n",
    "    \"\"\"\n",
    "    SELECT * \n",
    "    FROM feedback f INNER JOIN customer c ON f.customer_id = c.customer_id \n",
    "    WHERE c.name = 'Mr. Sean Hubbard 196'\n",
    "    \"\"\"\n",
    ")"
   ]
  },
  {
   "cell_type": "code",
   "execution_count": 22,
   "id": "07051854-7f3c-4ef7-a985-7e9b7d2de628",
   "metadata": {},
   "outputs": [
    {
     "data": {
      "text/plain": [
       "'DONE'"
      ]
     },
     "execution_count": 22,
     "metadata": {},
     "output_type": "execute_result"
    }
   ],
   "source": [
    "just_execute(\n",
    "    \"\"\"\n",
    "    CREATE INDEX IF NOT EXISTS customer_name_idx ON customer USING BTREE (name);\n",
    "    ANALYZE customer;\n",
    "    \"\"\"\n",
    ")"
   ]
  },
  {
   "cell_type": "code",
   "execution_count": 23,
   "id": "bb06fdc2-ded8-4b71-9687-212409378f2f",
   "metadata": {},
   "outputs": [
    {
     "data": {
      "text/plain": [
       "[('Hash Join  (cost=8.32..3188.51 rows=4 width=255) (actual time=0.454..7.223 rows=6 loops=1)',),\n",
       " ('  Hash Cond: (f.customer_id = c.customer_id)',),\n",
       " ('  ->  Seq Scan on feedback f  (cost=0.00..2970.12 rows=80012 width=188) (actual time=0.005..3.241 rows=80012 loops=1)',),\n",
       " ('  ->  Hash  (cost=8.30..8.30 rows=1 width=67) (actual time=0.019..0.021 rows=1 loops=1)',),\n",
       " ('        Buckets: 1024  Batches: 1  Memory Usage: 9kB',),\n",
       " ('        ->  Index Scan using customer_name_idx on customer c  (cost=0.29..8.30 rows=1 width=67) (actual time=0.017..0.018 rows=1 loops=1)',),\n",
       " (\"              Index Cond: (name = 'Mr. Sean Hubbard 196'::text)\",),\n",
       " ('Planning Time: 0.268 ms',),\n",
       " ('Execution Time: 7.248 ms',)]"
      ]
     },
     "execution_count": 23,
     "metadata": {},
     "output_type": "execute_result"
    }
   ],
   "source": [
    "explain_analyze(\n",
    "    \"\"\"\n",
    "    SELECT * \n",
    "    FROM feedback f INNER JOIN customer c ON f.customer_id = c.customer_id \n",
    "    WHERE c.name = 'Mr. Sean Hubbard 196'\n",
    "    \"\"\"\n",
    ")"
   ]
  },
  {
   "cell_type": "code",
   "execution_count": 24,
   "id": "eae4657b-b45e-4296-9497-e5595499680c",
   "metadata": {},
   "outputs": [
    {
     "data": {
      "text/plain": [
       "'DONE'"
      ]
     },
     "execution_count": 24,
     "metadata": {},
     "output_type": "execute_result"
    }
   ],
   "source": [
    "just_execute(\n",
    "    \"\"\"\n",
    "    CREATE INDEX IF NOT EXISTS feedback_customer_idx ON feedback USING BTREE (customer_id);\n",
    "    ANALYZE feedback;\n",
    "    \"\"\"\n",
    ")"
   ]
  },
  {
   "cell_type": "code",
   "execution_count": 25,
   "id": "999772a9-7872-4f94-9caf-bc02cb3add90",
   "metadata": {},
   "outputs": [
    {
     "data": {
      "text/plain": [
       "[('Nested Loop  (cost=4.61..28.20 rows=4 width=255) (actual time=0.018..0.026 rows=6 loops=1)',),\n",
       " ('  ->  Index Scan using customer_name_idx on customer c  (cost=0.29..8.30 rows=1 width=67) (actual time=0.008..0.009 rows=1 loops=1)',),\n",
       " (\"        Index Cond: (name = 'Mr. Sean Hubbard 196'::text)\",),\n",
       " ('  ->  Bitmap Heap Scan on feedback f  (cost=4.32..19.86 rows=4 width=188) (actual time=0.008..0.014 rows=6 loops=1)',),\n",
       " ('        Recheck Cond: (customer_id = c.customer_id)',),\n",
       " ('        Heap Blocks: exact=6',),\n",
       " ('        ->  Bitmap Index Scan on feedback_customer_idx  (cost=0.00..4.32 rows=4 width=0) (actual time=0.003..0.003 rows=6 loops=1)',),\n",
       " ('              Index Cond: (customer_id = c.customer_id)',),\n",
       " ('Planning Time: 0.262 ms',),\n",
       " ('Execution Time: 0.042 ms',)]"
      ]
     },
     "execution_count": 25,
     "metadata": {},
     "output_type": "execute_result"
    }
   ],
   "source": [
    "explain_analyze(\n",
    "    \"\"\"\n",
    "    SELECT * \n",
    "    FROM feedback f INNER JOIN customer c ON f.customer_id = c.customer_id \n",
    "    WHERE c.name = 'Mr. Sean Hubbard 196'\n",
    "    \"\"\"\n",
    ")"
   ]
  },
  {
   "cell_type": "markdown",
   "id": "2bbb7689-17d0-400d-aeda-89f96e8a36c9",
   "metadata": {},
   "source": [
    "### Find exact feedback"
   ]
  },
  {
   "cell_type": "code",
   "execution_count": 26,
   "id": "7f3c4fba-57ce-44bf-b1ba-c1a0ea51dc42",
   "metadata": {},
   "outputs": [
    {
     "data": {
      "text/plain": [
       "[('Seq Scan on feedback  (cost=0.00..3170.15 rows=1 width=188) (actual time=0.009..6.887 rows=1 loops=1)',),\n",
       " (\"  Filter: (message = 'Lose situation develop let few increase staff. Point quality baby cultural head. Likely police reality guess upon yes successful suffer. Who center network threat. Then majority establish behavior popular. Direction throw arrive animal.'::text)\",),\n",
       " ('  Rows Removed by Filter: 80011',),\n",
       " ('Planning Time: 0.056 ms',),\n",
       " ('Execution Time: 6.906 ms',)]"
      ]
     },
     "execution_count": 26,
     "metadata": {},
     "output_type": "execute_result"
    }
   ],
   "source": [
    "explain_analyze(\n",
    "    \"\"\"\n",
    "    SELECT * FROM feedback \n",
    "    WHERE message = 'Lose situation develop let few increase staff. Point quality baby cultural head. Likely police reality guess upon yes successful suffer. Who center network threat. Then majority establish behavior popular. Direction throw arrive animal.'\n",
    "    \"\"\"\n",
    ")"
   ]
  },
  {
   "cell_type": "code",
   "execution_count": 27,
   "id": "11220bfd-7a92-4511-9154-f9b4a06b2084",
   "metadata": {},
   "outputs": [
    {
     "data": {
      "text/plain": [
       "'DONE'"
      ]
     },
     "execution_count": 27,
     "metadata": {},
     "output_type": "execute_result"
    }
   ],
   "source": [
    "just_execute(\n",
    "    \"\"\"\n",
    "    -- can't use BTREE due to 'index row size 3288 exceeds btree version 4 maximum 2704 for index \"business_message_idx\"'\n",
    "    CREATE INDEX IF NOT EXISTS feedback_message_idx ON feedback USING HASH (message);\n",
    "    ANALYZE feedback;\n",
    "    \"\"\"\n",
    ")"
   ]
  },
  {
   "cell_type": "code",
   "execution_count": 28,
   "id": "d6bbfaff-cdd4-4f5c-83a1-f610f07d47ee",
   "metadata": {},
   "outputs": [
    {
     "data": {
      "text/plain": [
       "[('Index Scan using feedback_message_idx on feedback  (cost=0.00..8.02 rows=1 width=188) (actual time=0.013..0.013 rows=1 loops=1)',),\n",
       " (\"  Index Cond: (message = 'Lose situation develop let few increase staff. Point quality baby cultural head. Likely police reality guess upon yes successful suffer. Who center network threat. Then majority establish behavior popular. Direction throw arrive animal.'::text)\",),\n",
       " ('Planning Time: 0.123 ms',),\n",
       " ('Execution Time: 0.023 ms',)]"
      ]
     },
     "execution_count": 28,
     "metadata": {},
     "output_type": "execute_result"
    }
   ],
   "source": [
    "explain_analyze(\n",
    "    \"\"\"\n",
    "    SELECT * FROM feedback \n",
    "    WHERE message = 'Lose situation develop let few increase staff. Point quality baby cultural head. Likely police reality guess upon yes successful suffer. Who center network threat. Then majority establish behavior popular. Direction throw arrive animal.'\n",
    "    \"\"\"\n",
    ")"
   ]
  }
 ],
 "metadata": {
  "kernelspec": {
   "display_name": "Python 3 (ipykernel)",
   "language": "python",
   "name": "python3"
  },
  "language_info": {
   "codemirror_mode": {
    "name": "ipython",
    "version": 3
   },
   "file_extension": ".py",
   "mimetype": "text/x-python",
   "name": "python",
   "nbconvert_exporter": "python",
   "pygments_lexer": "ipython3",
   "version": "3.12.10"
  }
 },
 "nbformat": 4,
 "nbformat_minor": 5
}
